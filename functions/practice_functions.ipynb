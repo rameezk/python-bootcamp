{
 "cells": [
  {
   "cell_type": "code",
   "execution_count": 8,
   "metadata": {},
   "outputs": [],
   "source": [
    "def pig_latin(word):\n",
    "    '''\n",
    "    DOCSTRING: Pig Latin translator\n",
    "    INPUT: word [string]\n",
    "    OUTPUT: word [string]\n",
    "    '''\n",
    "    vowels = 'aeiou'\n",
    "    \n",
    "    first_letter = word[0]\n",
    "    \n",
    "    if first_letter in vowels:\n",
    "        pig_word = word + 'ay'\n",
    "    else:\n",
    "        pig_word = word[1:] + first_letter + 'ay'\n",
    "        \n",
    "    return pig_word\n",
    "            "
   ]
  },
  {
   "cell_type": "code",
   "execution_count": 9,
   "metadata": {},
   "outputs": [
    {
     "name": "stdout",
     "output_type": "stream",
     "text": [
      "Help on function pig_latin in module __main__:\n",
      "\n",
      "pig_latin(word)\n",
      "    DOCSTRING: Pig Latin translator\n",
      "    INPUT: word [string]\n",
      "    OUTPUT: word [string]\n",
      "\n"
     ]
    }
   ],
   "source": [
    "help(pig_latin)"
   ]
  },
  {
   "cell_type": "code",
   "execution_count": 10,
   "metadata": {},
   "outputs": [
    {
     "data": {
      "text/plain": [
       "'igpay'"
      ]
     },
     "execution_count": 10,
     "metadata": {},
     "output_type": "execute_result"
    }
   ],
   "source": [
    "pig_latin(\"pig\")"
   ]
  },
  {
   "cell_type": "code",
   "execution_count": 11,
   "metadata": {},
   "outputs": [
    {
     "data": {
      "text/plain": [
       "'eatay'"
      ]
     },
     "execution_count": 11,
     "metadata": {},
     "output_type": "execute_result"
    }
   ],
   "source": [
    "pig_latin(\"eat\")"
   ]
  },
  {
   "cell_type": "code",
   "execution_count": 15,
   "metadata": {},
   "outputs": [
    {
     "name": "stdout",
     "output_type": "stream",
     "text": [
      "hetay uickqay rownbay oxfay umpsjay overay aay igbay olehay \n"
     ]
    }
   ],
   "source": [
    "sentence = \"the quick brown fox jumps over a big hole\"\n",
    "\n",
    "translated_sentence = \"\"\n",
    "for word in sentence.split():\n",
    "    translated_sentence += pig_latin(word) + \" \"\n",
    "    \n",
    "print(translated_sentence)"
   ]
  },
  {
   "cell_type": "code",
   "execution_count": null,
   "metadata": {},
   "outputs": [],
   "source": []
  }
 ],
 "metadata": {
  "kernelspec": {
   "display_name": "Python 3",
   "language": "python",
   "name": "python3"
  },
  "language_info": {
   "codemirror_mode": {
    "name": "ipython",
    "version": 3
   },
   "file_extension": ".py",
   "mimetype": "text/x-python",
   "name": "python",
   "nbconvert_exporter": "python",
   "pygments_lexer": "ipython3",
   "version": "3.7.0"
  }
 },
 "nbformat": 4,
 "nbformat_minor": 2
}
